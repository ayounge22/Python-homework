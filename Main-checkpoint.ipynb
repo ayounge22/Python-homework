{
 "cells": [
  {
   "cell_type": "code",
   "execution_count": 65,
   "id": "d67c9741-ab3a-4e17-a3ba-ad5c83dc6461",
   "metadata": {},
   "outputs": [
    {
     "name": "stdout",
     "output_type": "stream",
     "text": [
      "Financial Analysis\n",
      "----------------------\n",
      "Total Months: 86\n",
      "Total: $727533214\n",
      "Average Change: $-2315.12\n",
      "Greatest increase in Profits: Feb-2012 ($1926159)\n",
      "Greatest decrease in Profits: Sep-2013 ($-2196167)\n"
     ]
    }
   ],
   "source": [
    "import os\n",
    "import csv\n",
    "\n",
    "csvpath = os.path.join(r\"C:\\Users\\ayoun\\Downloads\\budget_data.csv\")\n",
    "\n",
    "totalMonth = 0\n",
    "total = 0\n",
    "previousProfit_Losses = 0\n",
    "Profit_Losses_change = 0\n",
    "ProfitLoss_change_list = []\n",
    "month = []\n",
    "increase = 0\n",
    "decrease = 9999999999999999\n",
    "\n",
    "with open(csvpath) as csvfile:\n",
    "   csvreader = csv.DictReader(csvfile)\n",
    "\n",
    "   index=0\n",
    "   for row in csvreader:\n",
    "       if(index==0):\n",
    "           totalMonth=1\n",
    "           total = total + int(row[\"Profit/Losses\"])\n",
    "           previousProfit_Losses = int(row[\"Profit/Losses\"])\n",
    "           month = month + [row[\"Date\"]]\n",
    "           index+=1\n",
    "           continue\n",
    "\n",
    "       totalMonth = totalMonth + 1\n",
    "       total = total + int(row[\"Profit/Losses\"])\n",
    "       Profit_Losses_change = int(row[\"Profit/Losses\"]) - previousProfit_Losses\n",
    "       ProfitLoss_change_list.append(Profit_Losses_change)\n",
    "       previousProfit_Losses = int(row[\"Profit/Losses\"])\n",
    "       month_change = month_change + [row[\"Date\"]]\n",
    "      \n",
    "   decrease=min(ProfitLoss_change_list)\n",
    "   increase=max(ProfitLoss_change_list)\n",
    "\n",
    "   decrease_month=ProfitLoss_change_list.index(greatestDecrease)+1\n",
    "   increase_month=ProfitLoss_change_list.index(greatestIncrease)+1\n",
    "   print(\"Financial Analysis\")\n",
    "\n",
    "   print(\"----------------------\")\n",
    "\n",
    "   print(f\"Total Months: {totalMonth}\")\n",
    "\n",
    "   print(f\"Total: ${totalProfit_Losses}\")\n",
    "\n",
    "   print(f\"Average Change: ${round(sum(ProfitLoss_change_list)/len(ProfitLoss_change_list),2)}\")\n",
    "\n",
    "   print(f\"Greatest increase in Profits: {month_change[greatestIncrease_month]} (${(str(greatestIncrease))})\")\n",
    "\n",
    "   print(f\"Greatest decrease in Profits: {month_change[greatestDecrease_month]} (${(str(greatestDecrease))})\")"
   ]
  }
 ],
 "metadata": {
  "kernelspec": {
   "display_name": "Python 3 (ipykernel)",
   "language": "python",
   "name": "python3"
  },
  "language_info": {
   "codemirror_mode": {
    "name": "ipython",
    "version": 3
   },
   "file_extension": ".py",
   "mimetype": "text/x-python",
   "name": "python",
   "nbconvert_exporter": "python",
   "pygments_lexer": "ipython3",
   "version": "3.7.11"
  }
 },
 "nbformat": 4,
 "nbformat_minor": 5
}
